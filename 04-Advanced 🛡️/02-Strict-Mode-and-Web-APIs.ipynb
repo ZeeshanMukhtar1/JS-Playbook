{
 "cells": [
  {
   "cell_type": "markdown",
   "metadata": {},
   "source": [
    "### 1. Strict Mode:\n",
    "\n",
    "#### Theory:\n",
    "Strict Mode is a feature introduced in ECMAScript 5 that allows you to catch common coding errors and prevents the usage of certain error-prone features. It helps in writing more robust and maintainable code by throwing errors for common mistakes that would otherwise be ignored.\n",
    "\n",
    "To enable strict mode, add the following line at the top of your JavaScript file:\n",
    "\n",
    "```javascript\n",
    "\"use strict\";\n",
    "```\n",
    "\n",
    "#### Code Example:\n",
    "```javascript\n",
    "\"use strict\";\n",
    "\n",
    "// This will throw an error in strict mode\n",
    "undefinedVariable = \"This will cause an error\";\n",
    "\n",
    "// The following line will also throw an error in strict mode\n",
    "delete Object.prototype; // Cannot delete a property of an object\n",
    "```\n",
    "\n",
    "### 2. Web APIs:\n",
    "\n",
    "#### Theory:\n",
    "Web APIs (Application Programming Interfaces) provide a way for web developers to interact with the browser. They include a set of functions and methods that allow you to manipulate the Document Object Model (DOM), handle events, make HTTP requests (AJAX), and more.\n",
    "\n",
    "Common Web APIs include the DOM API, XMLHttpRequest, Fetch API, and others.\n",
    "\n",
    "#### Code Example:\n",
    "```javascript\n",
    "// Example of using the DOM API\n",
    "const heading = document.createElement(\"h1\");\n",
    "heading.textContent = \"Hello, Web APIs!\";\n",
    "document.body.appendChild(heading);\n",
    "```\n",
    "\n",
    "### 3. Strict Mode and Web APIs Together:\n",
    "\n",
    "#### Theory:\n",
    "Using Strict Mode in conjunction with Web APIs can help catch errors early in development. It ensures that your code follows best practices and avoids common pitfalls. When interacting with the DOM or making HTTP requests, strict mode helps in writing more reliable and predictable code.\n",
    "\n",
    "#### Code Example:\n",
    "```javascript\n",
    "\"use strict\";\n",
    "\n",
    "// Example of using strict mode with the DOM API\n",
    "const paragraph = document.createElement(\"p\");\n",
    "paragraph.textContent = \"Strict Mode and Web APIs Example\";\n",
    "document.body.appendChild(paragraph);\n",
    "```\n",
    "\n",
    "These examples provide an overview of Strict Mode and Web APIs. If you have specific questions or want more details on any aspect, feel free to ask!"
   ]
  },
  {
   "cell_type": "markdown",
   "metadata": {},
   "source": [
    "--- \n",
    "### Further Reading: API Mastery\n",
    "\n",
    "For a comprehensive guide on APIs, exploring their methods, best practices, and potential pitfalls, consider checking out the book titled **API Mastery**. You can find the detailed content in the [API Mastery](https://github.com/ZeeshanMukhtar1/JS-Playbook/raw/main/Assets/API-Mastery.pdf) of this repository.\n",
    "\n",
    "> **Tip:** To open the book in a new tab, you can use the keyboard shortcut `Ctrl+Click` (Windows/Linux) or `Cmd+Click` (Mac) on the link.\n",
    "\n",
    "Feel free to dive into the book to enhance your understanding of API development and unleash the full potential of web interactions!\n"
   ]
  }
 ],
 "metadata": {
  "language_info": {
   "name": "python"
  }
 },
 "nbformat": 4,
 "nbformat_minor": 2
}
