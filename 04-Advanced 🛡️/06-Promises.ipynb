{
 "cells": [
  {
   "cell_type": "markdown",
   "metadata": {},
   "source": [
    "## Promises in JavaScript\n",
    "A Promise is like a promise someone makes to you. It's like when your friend promises to give you a toy tomorrow. You trust your friend, but you don't have the toy yet. You have to wait until tomorrow to get it. In the meantime, you can do other things, like play with your other toys or go to sleep.\n",
    "\n",
    "In JavaScript, a Promise is similar. It's like a promise that some code makes to you. The code promises to give you a value, but you don't have it yet. You have to wait until the code finishes running to get the value. In the meantime, you can do other things in your code.\n",
    "\n",
    "Promises have three states: pending, fulfilled, and rejected. When a Promise is pending, it means that the code hasn't finished running yet. When a Promise is fulfilled, it means that the code has finished running successfully and has given you a value. When a Promise is rejected, it means that the code has finished running unsuccessfully and has given you an error.\n",
    "\n",
    "Here's an example of using Promises in JavaScript:"
   ]
  },
  {
   "cell_type": "markdown",
   "metadata": {},
   "source": [
    "```javascript\n",
    "const fetchData = () => {\n",
    "  return new Promise((resolve, reject) => { // code to fetch data asynchronously // resolve with data if successful // reject with error if unsuccessful }); };\n",
    "\n",
    "fetchData() .then(data => {\n",
    "  // do something with data when it's available }) .catch(error => { // handle error if something went wrong });\n",
    "```"
   ]
  },
  {
   "cell_type": "code",
   "execution_count": 3,
   "metadata": {
    "vscode": {
     "languageId": "javascript"
    }
   },
   "outputs": [
    {
     "name": "stdout",
     "output_type": "stream",
     "text": [
      "Data successfully retrieved!\n"
     ]
    }
   ],
   "source": [
    "%%script node\n",
    "// Function that returns a promise\n",
    "function getData() {\n",
    "  return new Promise((resolve, reject) => {\n",
    "    // Simulating an asynchronous operation (e.g., fetching data from an API)\n",
    "    setTimeout(() => {\n",
    "      const success = true; // Simulating a successful operation\n",
    "      if (success) {\n",
    "        resolve(\"Data successfully retrieved!\");\n",
    "      } else {\n",
    "        reject(\"Error fetching data\");\n",
    "      }\n",
    "    }, 2000); // Simulating a delay of 2 seconds\n",
    "  });\n",
    "}\n",
    "\n",
    "// Using the promise\n",
    "getData()\n",
    "  .then((result) => {\n",
    "    console.log(result); // Output: Data successfully retrieved!\n",
    "  })\n",
    "  .catch((error) => {\n",
    "    console.error(error); // Output: Error fetching data\n",
    "  });\n"
   ]
  },
  {
   "cell_type": "markdown",
   "metadata": {},
   "source": [
    "Let's break down the code:\n",
    "\n",
    "1. The `getData` function returns a new Promise object. This Promise takes two arguments: `resolve` and `reject`. These are functions provided by the promise system to indicate the eventual outcome of the operation.\n",
    "\n",
    "2. Inside the Promise, there's a simulated asynchronous operation using `setTimeout` to represent, for example, fetching data from an API.\n",
    "\n",
    "3. If the operation is successful (`success` is `true`), the `resolve` function is called with a success message. If there's an error, the `reject` function is called with an error message.\n",
    "\n",
    "4. Outside the `getData` function, we use the `then` method to handle the resolved state (when the promise is fulfilled) and the `catch` method to handle the rejected state (when there's an error). This is a common pattern for working with promises.\n",
    "\n",
    "This example is quite basic, but it illustrates the fundamental concepts of promises:\n",
    "\n",
    "- **Pending:** The initial state of a promise. It's neither fulfilled nor rejected.\n",
    "- **Fulfilled:** The state of a promise representing a successful operation. The `resolve` function is called.\n",
    "- **Rejected:** The state of a promise representing a failed operation. The `reject` function is called.\n",
    "\n",
    "Promises provide a cleaner way to structure asynchronous code compared to using callbacks directly, and they also make error handling more straightforward. The `then` and `catch` methods allow you to chain asynchronous operations, making the code more readable and maintainable."
   ]
  }
 ],
 "metadata": {
  "kernelspec": {
   "display_name": "Python 3",
   "language": "python",
   "name": "python3"
  },
  "language_info": {
   "codemirror_mode": {
    "name": "ipython",
    "version": 3
   },
   "file_extension": ".py",
   "mimetype": "text/x-python",
   "name": "python",
   "nbconvert_exporter": "python",
   "pygments_lexer": "ipython3",
   "version": "3.12.0"
  }
 },
 "nbformat": 4,
 "nbformat_minor": 2
}
