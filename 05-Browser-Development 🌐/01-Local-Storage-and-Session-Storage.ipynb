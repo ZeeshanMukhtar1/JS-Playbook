{
 "cells": [
  {
   "cell_type": "markdown",
   "metadata": {},
   "source": [
    "### Local Storage and Session Storage\n",
    "\n",
    "Local Storage and Session Storage are two web storage options available in modern web browsers. They provide a way for web applications to store data locally on a user's device. Both options offer a simple key-value pair storage mechanism and are accessible through the `localStorage` and `sessionStorage` objects.\n",
    "\n",
    "#### Local Storage:\n",
    "\n",
    "- **Persistence:** Data stored in Local Storage persists even after the browser is closed and reopened. It has no expiration time unless manually cleared by the user or the application.\n",
    "\n",
    "- **Scope:** Data stored in Local Storage is available across browser sessions and tabs/windows.\n",
    "\n",
    "- **Usage Example:**\n",
    "  ```javascript\n",
    "  // Storing data in Local Storage\n",
    "  localStorage.setItem('username', 'JohnDoe');\n",
    "\n",
    "  // Retrieving data from Local Storage\n",
    "  const storedUsername = localStorage.getItem('username');\n",
    "  console.log(storedUsername); // Output: JohnDoe\n",
    "  ```\n",
    "\n",
    "#### Session Storage:\n",
    "\n",
    "- **Persistence:** Data stored in Session Storage is only available for the duration of the page session. Once the user closes the tab or window, the data is cleared.\n",
    "\n",
    "- **Scope:** Session Storage is limited to the current browser tab or window. Data is not shared between different tabs/windows.\n",
    "\n",
    "- **Usage Example:**\n",
    "  ```javascript\n",
    "  // Storing data in Session Storage\n",
    "  sessionStorage.setItem('theme', 'light');\n",
    "\n",
    "  // Retrieving data from Session Storage\n",
    "  const storedTheme = sessionStorage.getItem('theme');\n",
    "  console.log(storedTheme); // Output: light\n",
    "  ```\n",
    "\n",
    "#### Use Cases:\n",
    "\n",
    "- **Local Storage:** Use it when you want to store data that should persist across browser sessions and tabs, such as user preferences or settings.\n",
    "\n",
    "- **Session Storage:** Use it when you need to store temporary data that is only relevant for the duration of the page session, like a user's current session state.\n",
    "\n",
    "#### Important Considerations:\n",
    "\n",
    "- Both Local Storage and Session Storage have string-only key and value pairs. If you need to store complex objects, you may want to serialize and deserialize them using `JSON.stringify` and `JSON.parse`.\n",
    "\n",
    "- Always be mindful of the amount of data you store, as browsers typically limit storage capacity for these mechanisms.\n",
    "\n",
    "These storage options provide a convenient way to enhance user experiences by locally storing data relevant to your web application."
   ]
  }
 ],
 "metadata": {
  "language_info": {
   "name": "python"
  }
 },
 "nbformat": 4,
 "nbformat_minor": 2
}
