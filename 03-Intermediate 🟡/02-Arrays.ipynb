{
 "cells": [
  {
   "cell_type": "markdown",
   "metadata": {},
   "source": [
    "# JavaScript Arrays: Operations and Techniques\n",
    "\n",
    "## Introduction\n",
    "\n",
    "Arrays in JavaScript are versatile data structures used to store and manipulate ordered collections of values. This guide covers various operations and techniques for working with arrays.\n",
    "\n",
    "## Creating Arrays\n",
    "\n",
    "To create an array, use the array literal notation:"
   ]
  },
  {
   "cell_type": "code",
   "execution_count": 5,
   "metadata": {
    "vscode": {
     "languageId": "javascript"
    }
   },
   "outputs": [],
   "source": [
    "const numbers = [1, 2, 3, 4, 5];\n",
    "const fruits = [\"Apple\", \"Banana\", \"Orange\"];\n"
   ]
  },
  {
   "cell_type": "markdown",
   "metadata": {},
   "source": [
    "Accessing Array Elements\n",
    "You can access array elements using index notation:\n"
   ]
  },
  {
   "cell_type": "code",
   "execution_count": null,
   "metadata": {
    "vscode": {
     "languageId": "javascript"
    }
   },
   "outputs": [],
   "source": [
    "```JavaScript\n",
    "console.log(numbers[0]); // Output: 1\n",
    "console.log(fruits[1]); // Output: \"Banana\"\n",
    "```\n"
   ]
  },
  {
   "cell_type": "markdown",
   "metadata": {},
   "source": [
    "Modifying Array Elements\n",
    "To modify an array element, assign a new value:"
   ]
  },
  {
   "cell_type": "code",
   "execution_count": null,
   "metadata": {
    "vscode": {
     "languageId": "javascript"
    }
   },
   "outputs": [],
   "source": [
    "numbers[2] = 99;\n"
   ]
  },
  {
   "cell_type": "markdown",
   "metadata": {},
   "source": [
    "Adding Elements to Arrays\n",
    "To add elements to an array, use methods like push(), unshift(), or the spread operator:"
   ]
  },
  {
   "cell_type": "code",
   "execution_count": null,
   "metadata": {
    "vscode": {
     "languageId": "javascript"
    }
   },
   "outputs": [],
   "source": [
    "numbers.push(6); // Adds 6 to the end\n",
    "fruits.unshift(\"Mango\"); // Adds \"Mango\" to the beginning\n"
   ]
  },
  {
   "cell_type": "markdown",
   "metadata": {},
   "source": [
    "Removing Elements from Arrays\n",
    "To remove elements from an array, use methods like `pop(),` `shift()` , or `splice()` :"
   ]
  },
  {
   "cell_type": "code",
   "execution_count": null,
   "metadata": {
    "vscode": {
     "languageId": "javascript"
    }
   },
   "outputs": [],
   "source": [
    "numbers.pop(); // Removes the last element\n",
    "fruits.shift(); // Removes the first element\n"
   ]
  },
  {
   "cell_type": "markdown",
   "metadata": {},
   "source": [
    "Finding Elements in Arrays\n",
    "To find elements in an array, use methods like `indexOf()`, `includes()`, or `find()`:"
   ]
  },
  {
   "cell_type": "code",
   "execution_count": null,
   "metadata": {
    "vscode": {
     "languageId": "javascript"
    }
   },
   "outputs": [],
   "source": [
    "console.log(numbers.indexOf(3)); // Output: 2\n",
    "console.log(fruits.includes(\"Apple\")); // Output: true\n"
   ]
  },
  {
   "cell_type": "markdown",
   "metadata": {},
   "source": [
    "Slicing Arrays\n",
    "To create a new array from a portion of an existing array, use `slice()`:"
   ]
  },
  {
   "cell_type": "code",
   "execution_count": null,
   "metadata": {
    "vscode": {
     "languageId": "javascript"
    }
   },
   "outputs": [],
   "source": [
    "const slicedNumbers = numbers.slice(1, 4); // Returns [2, 99, 4]\n"
   ]
  },
  {
   "cell_type": "markdown",
   "metadata": {},
   "source": [
    "Iterating Over Arrays\n",
    "To iterate over array elements, use methods like `forEach()` or `for...of loop`:"
   ]
  },
  {
   "cell_type": "code",
   "execution_count": null,
   "metadata": {
    "vscode": {
     "languageId": "javascript"
    }
   },
   "outputs": [],
   "source": [
    "numbers.forEach((number) => {\n",
    "  console.log(number);\n",
    "});\n",
    "\n",
    "// Alternatively\n",
    "for (const fruit of fruits) {\n",
    "  console.log(fruit);\n",
    "}\n"
   ]
  },
  {
   "cell_type": "markdown",
   "metadata": {},
   "source": [
    "### Conclusion\n",
    "Understanding these array operations and techniques empowers you to effectively manage and manipulate collections of data in JavaScript."
   ]
  }
 ],
 "metadata": {
  "kernelspec": {
   "display_name": "Python 3",
   "language": "python",
   "name": "python3"
  },
  "language_info": {
   "codemirror_mode": {
    "name": "ipython",
    "version": 3
   },
   "file_extension": ".py",
   "mimetype": "text/x-python",
   "name": "python",
   "nbconvert_exporter": "python",
   "pygments_lexer": "ipython3",
   "version": "3.12.0"
  }
 },
 "nbformat": 4,
 "nbformat_minor": 2
}
