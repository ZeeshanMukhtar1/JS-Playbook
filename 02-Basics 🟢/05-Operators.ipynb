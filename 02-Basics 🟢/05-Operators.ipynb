{
 "cells": [
  {
   "cell_type": "markdown",
   "metadata": {},
   "source": [
    "## Operators\n",
    "In JavaScript, operators are symbols that perform operations on variables and values. They are classified into various types, including arithmetic, comparison, logical, assignment, and more. Here's an explanation of each type with examples:"
   ]
  },
  {
   "cell_type": "markdown",
   "metadata": {},
   "source": [
    "1. Arithmetic Operators:\n",
    "Arithmetic operators perform mathematical operations on numeric values.\n",
    "\n"
   ]
  },
  {
   "cell_type": "markdown",
   "metadata": {
    "vscode": {
     "languageId": "javascript"
    }
   },
   "source": [
    "```JavaScript\n",
    "let a = 10;\n",
    "let b = 5;\n",
    "\n",
    "let sum = a + b; // Addition\n",
    "let difference = a - b; // Subtraction\n",
    "let product = a * b; // Multiplication\n",
    "let quotient = a / b; // Division\n",
    "let remainder = a % b; // Modulus (remainder)\n",
    "```\n"
   ]
  },
  {
   "cell_type": "markdown",
   "metadata": {},
   "source": [
    "2. Comparison Operators:\n",
    "Comparison operators compare two values and return a Boolean result (`true` or `false`)."
   ]
  },
  {
   "cell_type": "markdown",
   "metadata": {
    "vscode": {
     "languageId": "javascript"
    }
   },
   "source": [
    "%%script node\n",
    "let x = 5;\n",
    "let y = 10;\n",
    "\n",
    "let isEqual = x == y; // Equal to\n",
    "let isNotEqual = x != y; // Not equal to\n",
    "let isGreater = x > y; // Greater than\n",
    "let isLess = x < y; // Less than\n",
    "let isGreaterOrEqual = x >= y; // Greater than or equal to\n",
    "let isLessOrEqual = x <= y; // Less than or equal to\n"
   ]
  },
  {
   "cell_type": "markdown",
   "metadata": {},
   "source": [
    "3. Logical Operators:\n",
    "Logical operators perform logical operations and return a Boolean result."
   ]
  },
  {
   "cell_type": "markdown",
   "metadata": {
    "vscode": {
     "languageId": "javascript"
    }
   },
   "source": [
    "```javascript\n",
    "let p = true;\n",
    "let q = false;\n",
    "\n",
    "let andResult = p && q; // Logical AND\n",
    "let orResult = p || q; // Logical OR\n",
    "let notResult = !p; // Logical NOT\n",
    "```\n"
   ]
  },
  {
   "cell_type": "markdown",
   "metadata": {},
   "source": [
    "4. Assignment Operators:\n",
    "Assignment operators assign values to variables."
   ]
  },
  {
   "cell_type": "markdown",
   "metadata": {
    "vscode": {
     "languageId": "javascript"
    }
   },
   "source": [
    "```javascript\n",
    "let num = 5;\n",
    "\n",
    "num += 3; // Equivalent to num = num + 3\n",
    "num -= 2; // Equivalent to num = num - 2\n",
    "num *= 4; // Equivalent to num = num * 4\n",
    "num /= 2; // Equivalent to num = num / 2\n",
    "num %= 3; // Equivalent to num = num % 3\n",
    "```\n"
   ]
  },
  {
   "cell_type": "markdown",
   "metadata": {},
   "source": [
    "5. Unary Operators:\n",
    "Unary operators operate on a single operand."
   ]
  },
  {
   "cell_type": "markdown",
   "metadata": {
    "vscode": {
     "languageId": "javascript"
    }
   },
   "source": [
    "```javascript\n",
    "let count = 5;\n",
    "\n",
    "count++; // Increment by 1 (post-increment)\n",
    "++count; // Increment by 1 (pre-increment)\n",
    "count--; // Decrement by 1 (post-decrement)\n",
    "--count; // Decrement by 1 (pre-decrement)\n",
    "```\n"
   ]
  },
  {
   "cell_type": "markdown",
   "metadata": {},
   "source": [
    "These are some of the fundamental operators in JavaScript. Understanding and using them effectively is crucial for performing various operations and calculations in your code.\n"
   ]
  }
 ],
 "metadata": {
  "kernelspec": {
   "display_name": "Python 3",
   "language": "python",
   "name": "python3"
  },
  "language_info": {
   "codemirror_mode": {
    "name": "ipython",
    "version": 3
   },
   "file_extension": ".py",
   "mimetype": "text/x-python",
   "name": "python",
   "nbconvert_exporter": "python",
   "pygments_lexer": "ipython3",
   "version": "3.12.0"
  }
 },
 "nbformat": 4,
 "nbformat_minor": 2
}
