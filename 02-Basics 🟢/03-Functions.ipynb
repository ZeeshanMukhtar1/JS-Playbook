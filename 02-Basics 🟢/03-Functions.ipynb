{
 "cells": [
  {
   "cell_type": "markdown",
   "metadata": {},
   "source": [
    "# Understanding Functions in JavaScript\n",
    "\n",
    "In JavaScript, a function is a reusable block of code designed to perform a specific task. Functions play a crucial role in organizing and structuring code, promoting reusability and maintainability.\n",
    "\n",
    "A function in JavaScript is defined using the `function` keyword, followed by a name, a list of parameters enclosed in parentheses, and a block of code in curly braces. The basic syntax is as follows:\n",
    "\n"
   ]
  },
  {
   "cell_type": "raw",
   "metadata": {},
   "source": [
    "function functionName(parameter1, parameter2) {\n",
    "  // Function body (code block)\n",
    "  // Perform specific tasks using parameters\n",
    "  return result; // Optional: Return a value\n",
    "}\n"
   ]
  },
  {
   "cell_type": "markdown",
   "metadata": {},
   "source": [
    "1. Function with Parameters:"
   ]
  },
  {
   "cell_type": "code",
   "execution_count": 6,
   "metadata": {
    "vscode": {
     "languageId": "javascript"
    }
   },
   "outputs": [],
   "source": [
    "%%script node\n",
    "function addNumbers(a, b) {\n",
    "  return a + b;\n",
    "}\n",
    "\n",
    "// Usage\n",
    "const sum = addNumbers(5, 3); // Returns 8\n"
   ]
  },
  {
   "cell_type": "markdown",
   "metadata": {},
   "source": [
    "2. Function without Parameters:"
   ]
  },
  {
   "cell_type": "code",
   "execution_count": 7,
   "metadata": {
    "vscode": {
     "languageId": "javascript"
    }
   },
   "outputs": [
    {
     "ename": "SyntaxError",
     "evalue": "invalid syntax (421167706.py, line 1)",
     "output_type": "error",
     "traceback": [
      "\u001b[1;36m  Cell \u001b[1;32mIn[7], line 1\u001b[1;36m\u001b[0m\n\u001b[1;33m    function greet() {\u001b[0m\n\u001b[1;37m             ^\u001b[0m\n\u001b[1;31mSyntaxError\u001b[0m\u001b[1;31m:\u001b[0m invalid syntax\n"
     ]
    }
   ],
   "source": [
    "function greet() {\n",
    "  console.log('Hello, World!');\n",
    "}\n",
    "\n",
    "// Usage\n",
    "greet(); // Outputs: Hello, World!\n"
   ]
  },
  {
   "cell_type": "markdown",
   "metadata": {},
   "source": [
    "3. Function with Default Parameters (ES6+):"
   ]
  },
  {
   "cell_type": "code",
   "execution_count": null,
   "metadata": {
    "vscode": {
     "languageId": "javascript"
    }
   },
   "outputs": [],
   "source": [
    "function greetUser(name = 'Guest') {\n",
    "  console.log(`Hello, ${name}!`);\n",
    "}\n",
    "\n",
    "// Usage\n",
    "greetUser(); // Outputs: Hello, Guest!\n",
    "greetUser('Zeeshan'); // Outputs: Hello, Zeeshan!\n"
   ]
  },
  {
   "cell_type": "markdown",
   "metadata": {},
   "source": [
    "4. Arrow Functions (ES6+):"
   ]
  },
  {
   "cell_type": "code",
   "execution_count": null,
   "metadata": {
    "vscode": {
     "languageId": "javascript"
    }
   },
   "outputs": [],
   "source": [
    "const multiply = (a, b) => a * b;\n",
    "\n",
    "// Usage\n",
    "const result = multiply(4, 6); // Returns 24\n"
   ]
  }
 ],
 "metadata": {
  "kernelspec": {
   "display_name": "Python 3",
   "language": "python",
   "name": "python3"
  },
  "language_info": {
   "codemirror_mode": {
    "name": "ipython",
    "version": 3
   },
   "file_extension": ".py",
   "mimetype": "text/x-python",
   "name": "python",
   "nbconvert_exporter": "python",
   "pygments_lexer": "ipython3",
   "version": "3.12.0"
  }
 },
 "nbformat": 4,
 "nbformat_minor": 2
}
