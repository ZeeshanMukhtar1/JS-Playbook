{
 "cells": [
  {
   "cell_type": "markdown",
   "metadata": {},
   "source": [
    "## Loops \n",
    "In JavaScript, loops are used to repeatedly execute a block of code until a specified condition is met. There are several types of loops, each serving a different purpose. Here's an explanation of each loop type with examples:"
   ]
  },
  {
   "cell_type": "markdown",
   "metadata": {},
   "source": [
    "1. For Loop:\n",
    "The `for` loop is used when the number of iterations is known beforehand."
   ]
  },
  {
   "cell_type": "code",
   "execution_count": 1,
   "metadata": {
    "vscode": {
     "languageId": "javascript"
    }
   },
   "outputs": [
    {
     "name": "stdout",
     "output_type": "stream",
     "text": [
      "Iteration \u001b[33m0\u001b[39m\n",
      "Iteration \u001b[33m1\u001b[39m\n",
      "Iteration \u001b[33m2\u001b[39m\n",
      "Iteration \u001b[33m3\u001b[39m\n",
      "Iteration \u001b[33m4\u001b[39m\n"
     ]
    }
   ],
   "source": [
    "%%script node\n",
    "for (let i = 0; i < 5; i++) {\n",
    "  console.log(\"Iteration\", i);\n",
    "}\n"
   ]
  },
  {
   "cell_type": "markdown",
   "metadata": {},
   "source": [
    "2. While Loop:\n",
    "\n",
    "The `while` loop is used when the number of iterations is not known beforehand, and the loop continues as long as the specified condition is true."
   ]
  },
  {
   "cell_type": "code",
   "execution_count": 2,
   "metadata": {
    "vscode": {
     "languageId": "javascript"
    }
   },
   "outputs": [
    {
     "name": "stdout",
     "output_type": "stream",
     "text": [
      "Iteration \u001b[33m0\u001b[39m\n",
      "Iteration \u001b[33m1\u001b[39m\n",
      "Iteration \u001b[33m2\u001b[39m\n",
      "Iteration \u001b[33m3\u001b[39m\n",
      "Iteration \u001b[33m4\u001b[39m\n"
     ]
    }
   ],
   "source": [
    "%%script node\n",
    "let count = 0;\n",
    "while (count < 5) {\n",
    "  console.log(\"Iteration\", count);\n",
    "  count++;\n",
    "}\n"
   ]
  },
  {
   "cell_type": "markdown",
   "metadata": {},
   "source": [
    "3. Do-While Loop:\n",
    "Similar to the `while` loop, but it always executes the block of code at least once before checking the condition."
   ]
  },
  {
   "cell_type": "code",
   "execution_count": 3,
   "metadata": {
    "vscode": {
     "languageId": "javascript"
    }
   },
   "outputs": [
    {
     "name": "stdout",
     "output_type": "stream",
     "text": [
      "Iteration \u001b[33m0\u001b[39m\n",
      "Iteration \u001b[33m1\u001b[39m\n",
      "Iteration \u001b[33m2\u001b[39m\n",
      "Iteration \u001b[33m3\u001b[39m\n",
      "Iteration \u001b[33m4\u001b[39m\n"
     ]
    }
   ],
   "source": [
    "%%script node\n",
    "let x = 0;\n",
    "do {\n",
    "  console.log(\"Iteration\", x);\n",
    "  x++;\n",
    "} while (x < 5);\n"
   ]
  },
  {
   "cell_type": "markdown",
   "metadata": {},
   "source": [
    "4. For...in Loop:\n",
    "Iterates over the enumerable properties of an object."
   ]
  },
  {
   "cell_type": "code",
   "execution_count": 4,
   "metadata": {
    "vscode": {
     "languageId": "javascript"
    }
   },
   "outputs": [
    {
     "name": "stdout",
     "output_type": "stream",
     "text": [
      "name John\n",
      "age \u001b[33m30\u001b[39m\n",
      "job Developer\n"
     ]
    }
   ],
   "source": [
    "%%script node\n",
    "const person = { name: \"John\", age: 30, job: \"Developer\" };\n",
    "for (let key in person) {\n",
    "  console.log(key, person[key]);\n",
    "}\n"
   ]
  },
  {
   "cell_type": "markdown",
   "metadata": {},
   "source": [
    "5. For...of Loop:\n",
    "Introduced in ES6, it iterates over the values of an iterable object."
   ]
  },
  {
   "cell_type": "code",
   "execution_count": 5,
   "metadata": {
    "vscode": {
     "languageId": "javascript"
    }
   },
   "outputs": [
    {
     "name": "stdout",
     "output_type": "stream",
     "text": [
      "red\n",
      "green\n",
      "blue\n"
     ]
    }
   ],
   "source": [
    "%%script node\n",
    "const colors = [\"red\", \"green\", \"blue\"];\n",
    "for (let color of colors) {\n",
    "  console.log(color);\n",
    "}\n"
   ]
  },
  {
   "cell_type": "markdown",
   "metadata": {},
   "source": [
    "6. Nested Loops:\n",
    "Loops can be nested inside one another."
   ]
  },
  {
   "cell_type": "code",
   "execution_count": 6,
   "metadata": {
    "vscode": {
     "languageId": "javascript"
    }
   },
   "outputs": [
    {
     "name": "stdout",
     "output_type": "stream",
     "text": [
      "\u001b[33m0\u001b[39m \u001b[33m0\u001b[39m\n",
      "\u001b[33m0\u001b[39m \u001b[33m1\u001b[39m\n",
      "\u001b[33m1\u001b[39m \u001b[33m0\u001b[39m\n",
      "\u001b[33m1\u001b[39m \u001b[33m1\u001b[39m\n",
      "\u001b[33m2\u001b[39m \u001b[33m0\u001b[39m\n",
      "\u001b[33m2\u001b[39m \u001b[33m1\u001b[39m\n"
     ]
    }
   ],
   "source": [
    "%%script node\n",
    "for (let i = 0; i < 3; i++) {\n",
    "  for (let j = 0; j < 2; j++) {\n",
    "    console.log(i, j);\n",
    "  }\n",
    "}\n"
   ]
  },
  {
   "cell_type": "markdown",
   "metadata": {},
   "source": [
    "7. Loop Control Statements:\n",
    "Break: Exits the loop prematurely.\n",
    "Continue: Skips the rest of the loop and continues with the next iteration."
   ]
  },
  {
   "cell_type": "code",
   "execution_count": 7,
   "metadata": {
    "vscode": {
     "languageId": "javascript"
    }
   },
   "outputs": [
    {
     "name": "stdout",
     "output_type": "stream",
     "text": [
      "Iteration \u001b[33m0\u001b[39m\n",
      "Iteration \u001b[33m1\u001b[39m\n",
      "Iteration \u001b[33m2\u001b[39m\n"
     ]
    }
   ],
   "source": [
    "%%script node\n",
    "for (let i = 0; i < 5; i++) {\n",
    "  if (i === 3) {\n",
    "    break; // Exit the loop when i is 3\n",
    "  }\n",
    "  console.log(\"Iteration\", i);\n",
    "}\n"
   ]
  },
  {
   "cell_type": "markdown",
   "metadata": {},
   "source": [
    "These loops provide flexibility and control for different scenarios in your JavaScript code. Understanding when to use each type is crucial for writing efficient and readable code."
   ]
  }
 ],
 "metadata": {
  "kernelspec": {
   "display_name": "Python 3",
   "language": "python",
   "name": "python3"
  },
  "language_info": {
   "codemirror_mode": {
    "name": "ipython",
    "version": 3
   },
   "file_extension": ".py",
   "mimetype": "text/x-python",
   "name": "python",
   "nbconvert_exporter": "python",
   "pygments_lexer": "ipython3",
   "version": "3.12.0"
  }
 },
 "nbformat": 4,
 "nbformat_minor": 2
}
