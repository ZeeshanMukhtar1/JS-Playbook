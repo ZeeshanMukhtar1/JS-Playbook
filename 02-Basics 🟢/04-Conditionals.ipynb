{
 "cells": [
  {
   "cell_type": "markdown",
   "metadata": {},
   "source": [
    " In JavaScript, conditionals are used to make decisions in your code based on whether a certain condition is true or false. The most common conditional statements are if, else if, and else. Here's a detailed explanation of each:"
   ]
  },
  {
   "cell_type": "markdown",
   "metadata": {},
   "source": [
    "1. if Statement:\n",
    "The if statement is used to execute a block of code if a specified condition evaluates to true. If the condition is false, the code inside the if block is skipped"
   ]
  },
  {
   "cell_type": "code",
   "execution_count": 10,
   "metadata": {
    "vscode": {
     "languageId": "javascript"
    }
   },
   "outputs": [
    {
     "name": "stdout",
     "output_type": "stream",
     "text": [
      "You are an adult.\n"
     ]
    }
   ],
   "source": [
    "%%script node\n",
    "let age = 18;\n",
    "\n",
    "if (age >= 18) {\n",
    "  console.log(\"You are an adult.\");\n",
    "}\n"
   ]
  },
  {
   "cell_type": "markdown",
   "metadata": {},
   "source": [
    "In this example, the message is logged to the console because the condition age >= 18 is true."
   ]
  },
  {
   "cell_type": "markdown",
   "metadata": {},
   "source": [
    "2. else if Statement:\n",
    "The else if statement allows you to check additional conditions if the preceding if condition is false. You can have multiple else if statements."
   ]
  },
  {
   "cell_type": "code",
   "execution_count": 11,
   "metadata": {
    "vscode": {
     "languageId": "javascript"
    }
   },
   "outputs": [
    {
     "name": "stdout",
     "output_type": "stream",
     "text": [
      "Good afternoon!\n"
     ]
    }
   ],
   "source": [
    "%%script node\n",
    "let time = 14;\n",
    "\n",
    "if (time < 12) {\n",
    "  console.log('Good morning!');\n",
    "} else if (time < 18) {\n",
    "  console.log('Good afternoon!');\n",
    "} else {\n",
    "  console.log('Good evening!');\n",
    "}\n"
   ]
  },
  {
   "cell_type": "markdown",
   "metadata": {},
   "source": [
    "In this example, the appropriate message is logged based on the value of time.\n",
    "\n"
   ]
  },
  {
   "cell_type": "markdown",
   "metadata": {},
   "source": [
    "3. else Statement:\n",
    "The else statement is used to provide a default block of code to execute if none of the preceding conditions are true"
   ]
  },
  {
   "cell_type": "code",
   "execution_count": 12,
   "metadata": {
    "vscode": {
     "languageId": "javascript"
    }
   },
   "outputs": [
    {
     "name": "stdout",
     "output_type": "stream",
     "text": [
      "Remember to take an umbrella!\n"
     ]
    }
   ],
   "source": [
    "%%script node\n",
    "let isRaining = true;\n",
    "\n",
    "if (isRaining) {\n",
    "  console.log('Remember to take an umbrella!');\n",
    "} else {\n",
    "  console.log('Enjoy the weather!');\n",
    "}\n"
   ]
  },
  {
   "cell_type": "markdown",
   "metadata": {},
   "source": [
    "Here, if isRaining is true, the first message is logged; otherwise, the second message is logged."
   ]
  },
  {
   "cell_type": "markdown",
   "metadata": {},
   "source": [
    "Example: Ternary Operator\n",
    "The ternary operator (? :) provides a concise way to write simple if-else statements."
   ]
  },
  {
   "cell_type": "code",
   "execution_count": 13,
   "metadata": {
    "vscode": {
     "languageId": "javascript"
    }
   },
   "outputs": [
    {
     "name": "stdout",
     "output_type": "stream",
     "text": [
      "Welcome, Member!\n"
     ]
    }
   ],
   "source": [
    "%%script node\n",
    "let isMember = true;\n",
    "\n",
    "let message = isMember ? 'Welcome, Member!' : 'Join us today!';\n",
    "console.log(message);\n"
   ]
  },
  {
   "cell_type": "markdown",
   "metadata": {},
   "source": [
    "In this example, the message is assigned based on the value of `isMember`."
   ]
  },
  {
   "cell_type": "markdown",
   "metadata": {},
   "source": [
    "Conditionals are essential for controlling the flow of your program and executing different blocks of code based on varying conditions. They enhance the flexibility and decision-making capabilities of your JavaScript code."
   ]
  }
 ],
 "metadata": {
  "kernelspec": {
   "display_name": "Python 3",
   "language": "python",
   "name": "python3"
  },
  "language_info": {
   "codemirror_mode": {
    "name": "ipython",
    "version": 3
   },
   "file_extension": ".py",
   "mimetype": "text/x-python",
   "name": "python",
   "nbconvert_exporter": "python",
   "pygments_lexer": "ipython3",
   "version": "3.12.0"
  }
 },
 "nbformat": 4,
 "nbformat_minor": 2
}
