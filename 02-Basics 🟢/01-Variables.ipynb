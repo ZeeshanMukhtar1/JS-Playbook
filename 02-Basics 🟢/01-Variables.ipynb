{
 "cells": [
  {
   "cell_type": "markdown",
   "metadata": {},
   "source": [
    "**Variables in JavaScript: A Beginner's Guide**\n",
    "\n",
    "### What are Variables?\n",
    "\n",
    "In programming, a variable is like a storage box with a name, used to hold information that can be referenced and manipulated in your code. It's a way to give a meaningful name to a value or a piece of data.\n",
    "\n",
    "Code Examples:"
   ]
  },
  {
   "cell_type": "code",
   "execution_count": 30,
   "metadata": {
    "vscode": {
     "languageId": "javascript"
    }
   },
   "outputs": [
    {
     "name": "stdout",
     "output_type": "stream",
     "text": [
      "The person's age is: 20\n"
     ]
    }
   ],
   "source": [
    "%%script node\n",
    "\n",
    "// Variable Declaration and Assignment\n",
    "var age = 20;\n",
    "\n",
    "// Outputting the Value\n",
    "console.log(\"The person's age is: \" + age);\n"
   ]
  },
  {
   "cell_type": "markdown",
   "metadata": {},
   "source": [
    "### Explanation:\n",
    "1. **Variable Declaration (`var`):**\n",
    "   - `var` is a keyword in JavaScript used to declare a variable. A variable is like a container that holds a value.\n",
    "   - Here, we declare a variable named `age`.\n",
    "\n",
    "2. **Variable Assignment (`=`):**\n",
    "   - The `=` operator is used to assign a value to a variable. In this case, we assign the value `20` to the variable `age`.\n",
    "\n",
    "3. **Output (`console.log()`):**\n",
    "   - `console.log()` is a function in JavaScript used to output information to the console, which is a tool developers use to see messages and debug code.\n",
    "   - We use `console.log()` to display a message along with the value of the `age` variable.\n",
    "\n",
    "4. **Result:**\n",
    "   - When you run this code, it will output: \"The person's age is: 20\" to the console.\n",
    "\n",
    "In summary, this code declares a variable `age` with a value of `20` and prints a message to the console, combining the text and the value of the `age` variable. Variables are crucial for storing and managing data in a program, allowing for dynamic and flexible coding.\n"
   ]
  }
 ],
 "metadata": {
  "kernelspec": {
   "display_name": "Python 3",
   "language": "python",
   "name": "python3"
  },
  "language_info": {
   "codemirror_mode": {
    "name": "ipython",
    "version": 3
   },
   "file_extension": ".py",
   "mimetype": "text/x-python",
   "name": "python",
   "nbconvert_exporter": "python",
   "pygments_lexer": "ipython3",
   "version": "3.12.0"
  }
 },
 "nbformat": 4,
 "nbformat_minor": 2
}
