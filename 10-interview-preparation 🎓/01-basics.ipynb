{
 "cells": [
  {
   "cell_type": "markdown",
   "metadata": {},
   "source": [
    "**Question:**\n",
    "What is the nature of JavaScript in terms of being a single-threaded or multi-threaded language, and how does it handle concurrency?\n",
    "\n",
    "**Answer:**\n",
    "JavaScript is single-threaded, executing one operation at a time. It achieves concurrency through mechanisms like callbacks, promises, and async/await. Multi-threaded languages can execute multiple threads simultaneously, but JavaScript can use web APIs like Web Workers for parallel processing.\n",
    "\n",
    "\n"
   ]
  },
  {
   "cell_type": "markdown",
   "metadata": {},
   "source": [
    "**Question:**\n",
    "What is the purpose of JavaScript or Why is JavaScript used in web development?\n",
    "\n",
    "**Answer:**\n",
    "The purpose of JavaScript is to enable dynamic and interactive behavior on websites. It's a scripting language that runs in web browsers, allowing developers to create responsive user interfaces, handle user input, and manipulate the content of web pages in real-time. JavaScript is versatile and widely used for both client-side and server-side development, making it a fundamental technology for building modern web applications\n",
    "\n"
   ]
  },
  {
   "cell_type": "markdown",
   "metadata": {},
   "source": [
    "**Question:**\n",
    "What are the types of functions in JavaScript?\\\n",
    "\n",
    "**Answer:**\n",
    "In JavaScript, functions can be categorized as regular functions, arrow functions, and IIFE (Immediately Invoked Function Expressions)."
   ]
  },
  {
   "cell_type": "markdown",
   "metadata": {},
   "source": [
    "**Question:**\n",
    "What distinguishes regular functions from arrow functions in JavaScript?\n",
    "\n",
    "**Answer:**\n",
    "The main difference lies in the handling of 'this' binding. Arrow functions do not have their own 'this' context, whereas regular functions do."
   ]
  },
  {
   "cell_type": "markdown",
   "metadata": {},
   "source": [
    "**Question:**\n",
    "What is the Document Object Model (DOM), and what does it contain?\n",
    "\n",
    "**Answer:**\n",
    "The Document Object Model (DOM) is a programming interface representing web documents. It contains a hierarchical structure of objects, including elements, attributes, and text, allowing programs to manipulate the document's structure, style, and content dynamically."
   ]
  },
  {
   "cell_type": "markdown",
   "metadata": {},
   "source": [
    "**Question:**\n",
    "Explain the differences between let, var, and const in JavaScript.\n",
    "\n",
    "**Answer:**\n",
    "- `var` is function-scoped and can be redeclared and reassigned.\n",
    "- `let` is block-scoped, allows reassignment, but cannot be redeclared in the same scope.\n",
    "- `const` is block-scoped, does not allow reassignment, and cannot be redeclared in the same scope.\n",
    "\n",
    "Example:\n",
    "```javascript\n",
    "var x = 10;\n",
    "let y = 20;\n",
    "const z = 30;\n",
    "\n",
    "if (true) {\n",
    "  var x = 5; // Redeclaration and reassigned\n",
    "  let y = 15; // Block-scoped\n",
    "  const z = 25; // Block-scoped, cannot be reassigned\n",
    "}\n",
    "\n",
    "console.log(x); // Output: 5\n",
    "console.log(y); // Output: 20\n",
    "console.log(z); // Output: 30\n",
    "```"
   ]
  }
 ],
 "metadata": {
  "language_info": {
   "name": "python"
  }
 },
 "nbformat": 4,
 "nbformat_minor": 2
}
