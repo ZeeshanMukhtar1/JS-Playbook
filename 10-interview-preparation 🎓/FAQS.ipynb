{
 "cells": [
  {
   "cell_type": "markdown",
   "metadata": {},
   "source": [
    "**Question:**\n",
    "What is the nature of JavaScript in terms of being a single-threaded or multi-threaded language, and how does it handle concurrency?\n",
    "\n",
    "**Answer:**\n",
    "JavaScript is single-threaded, executing one operation at a time. It achieves concurrency through mechanisms like callbacks, promises, and async/await. Multi-threaded languages can execute multiple threads simultaneously, but JavaScript can use web APIs like Web Workers for parallel processing.\n",
    "\n",
    "\n"
   ]
  },
  {
   "cell_type": "markdown",
   "metadata": {},
   "source": [
    "**Question:**\n",
    "What is the purpose of JavaScript or Why is JavaScript used in web development?\n",
    "\n",
    "**Answer:**\n",
    "The purpose of JavaScript is to enable dynamic and interactive behavior on websites. It's a scripting language that runs in web browsers, allowing developers to create responsive user interfaces, handle user input, and manipulate the content of web pages in real-time. JavaScript is versatile and widely used for both client-side and server-side development, making it a fundamental technology for building modern web applications\n",
    "\n"
   ]
  },
  {
   "cell_type": "markdown",
   "metadata": {},
   "source": [
    "**Question:**\n",
    "What are the types of functions in JavaScript?\\\n",
    "\n",
    "**Answer:**\n",
    "In JavaScript, functions can be categorized as regular functions, arrow functions, and IIFE (Immediately Invoked Function Expressions)."
   ]
  },
  {
   "cell_type": "markdown",
   "metadata": {},
   "source": [
    "**Question:**\n",
    "What distinguishes regular functions from arrow functions in JavaScript?\n",
    "\n",
    "**Answer:**\n",
    "The main difference lies in the handling of 'this' binding. Arrow functions do not have their own 'this' context, whereas regular functions do."
   ]
  },
  {
   "cell_type": "markdown",
   "metadata": {},
   "source": [
    "**Question:**\n",
    "What is hosting in JavaScript, and can you provide a simple example?\n",
    "\n",
    "**Answer:**\n",
    "JavaScript hosting means declarations are moved to the top. Example:\n",
    "\n",
    "```javascript\n",
    "console.log(x); // Output: undefined\n",
    "var x = 5;\n",
    "console.log(x); // Output: 5\n",
    "```"
   ]
  },
  {
   "cell_type": "markdown",
   "metadata": {},
   "source": [
    "**Question:**\n",
    "Could you explain callback hell in JavaScript with a simpler example?\n",
    "\n",
    "**Answer:**\n",
    "Callback hell occurs when multiple functions are nested, making code hard to read. For instance:\n",
    "\n",
    "```javascript\n",
    "getData(function(result1) {\n",
    "  processData(result1, function(result2) {\n",
    "    handleResult(result2, function(finalResult) {\n",
    "      // Do something with finalResult\n",
    "    });\n",
    "  });\n",
    "});\n",
    "```\n",
    "\n",
    "To improve readability, you can use Promises or async/await:\n",
    "\n",
    "```javascript\n",
    "getData()\n",
    "  .then(result1 => processData(result1))\n",
    "  .then(result2 => handleResult(result2))\n",
    "  .then(finalResult => {\n",
    "    // Do something with finalResult\n",
    "  })\n",
    "  .catch(error => console.error(error));\n",
    "```"
   ]
  }
 ],
 "metadata": {
  "language_info": {
   "name": "python"
  }
 },
 "nbformat": 4,
 "nbformat_minor": 2
}
