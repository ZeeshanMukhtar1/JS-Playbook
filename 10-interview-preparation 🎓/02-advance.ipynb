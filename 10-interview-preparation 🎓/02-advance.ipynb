{
 "cells": [
  {
   "cell_type": "markdown",
   "metadata": {},
   "source": [
    "**Question:**\n",
    "Could you explain callback hell in JavaScript with a simpler example?\n",
    "\n",
    "**Answer:**\n",
    "Callback hell occurs when multiple functions are nested, making code hard to read. For instance:\n",
    "\n",
    "```javascript\n",
    "getData(function(result1) {\n",
    "  processData(result1, function(result2) {\n",
    "    handleResult(result2, function(finalResult) {\n",
    "      // Do something with finalResult\n",
    "    });\n",
    "  });\n",
    "});\n",
    "```\n",
    "\n",
    "To improve readability, you can use Promises or async/await:\n",
    "\n",
    "```javascript\n",
    "getData()\n",
    "  .then(result1 => processData(result1))\n",
    "  .then(result2 => handleResult(result2))\n",
    "  .then(finalResult => {\n",
    "    // Do something with finalResult\n",
    "  })\n",
    "  .catch(error => console.error(error));\n",
    "```"
   ]
  },
  {
   "cell_type": "markdown",
   "metadata": {},
   "source": [
    "**Question:**\n",
    "What is hosting in JavaScript, and can you provide a simple example?\n",
    "\n",
    "**Answer:**\n",
    "JavaScript hosting means declarations are moved to the top. Example:\n",
    "\n",
    "```javascript\n",
    "console.log(x); // Output: undefined\n",
    "var x = 5;\n",
    "console.log(x); // Output: 5\n",
    "```"
   ]
  },
  {
   "cell_type": "markdown",
   "metadata": {},
   "source": [
    "**Question:**\n",
    "Explain async/await in JavaScript, their purpose, and when to use them compared to .then.\n",
    "\n",
    "**Answer:**\n",
    "Async/await is a syntax in JavaScript for handling asynchronous code. It makes code more readable and maintainable compared to chaining .then(). Use async/await when dealing with Promises to create cleaner, more sequential code. .then() is suitable for handling Promises when a more traditional approach is preferred or when working with older code that doesn't support async/await."
   ]
  },
  {
   "cell_type": "markdown",
   "metadata": {},
   "source": [
    "**Question:**\n",
    "Can you explain the use cases for the rest and spread operators in JavaScript?\n",
    "\n",
    "**Answer:**\n",
    "The rest (`...`) operator is useful when working with a variable number of function arguments, allowing them to be collected into an array.\n",
    "\n",
    "Example of Rest Operator:\n",
    "```javascript\n",
    "function sum(...numbers) {\n",
    "  return numbers.reduce((acc, num) => acc + num, 0);\n",
    "}\n",
    "\n",
    "console.log(sum(1, 2, 3)); // Output: 6\n",
    "```\n",
    "\n",
    "The spread (`...`) operator is handy for creating copies of arrays or combining arrays and objects.\n",
    "\n",
    "Example of Spread Operator:\n",
    "```javascript\n",
    "const arr1 = [1, 2, 3];\n",
    "const arr2 = [...arr1, 4, 5];\n",
    "\n",
    "console.log(arr2); // Output: [1, 2, 3, 4, 5]\n",
    "```"
   ]
  }
 ],
 "metadata": {
  "language_info": {
   "name": "python"
  }
 },
 "nbformat": 4,
 "nbformat_minor": 2
}
