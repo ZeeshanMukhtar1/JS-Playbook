{
 "cells": [
  {
   "cell_type": "markdown",
   "metadata": {},
   "source": [
    "**Question:**\n",
    "Can you provide a detailed explanation of event bubbling and event capturing in JavaScript?\n",
    "\n",
    "**Answer:**\n",
    "\"Event propagation in the DOM involves two phases: event capturing and event bubbling. When an event occurs, it first captures from the root to the target, then bubbles back up from the target to the root.\n",
    "\n",
    "Example:\n",
    "```html\n",
    "<!DOCTYPE html>\n",
    "<html lang=\"en\">\n",
    "<head>\n",
    "  <meta charset=\"UTF-8\">\n",
    "  <meta name=\"viewport\" content=\"width=device-width, initial-scale=1.0\">\n",
    "  <title>Event Example</title>\n",
    "</head>\n",
    "<body>\n",
    "\n",
    "  <div id=\"outer\">\n",
    "    <div id=\"inner\">Click me!</div>\n",
    "  </div>\n",
    "\n",
    "  <script>\n",
    "    document.getElementById('outer').addEventListener('click', () => {\n",
    "      console.log('Outer div clicked!');\n",
    "    }, true); // true for event capturing\n",
    "\n",
    "    document.getElementById('inner').addEventListener('click', () => {\n",
    "      console.log('Inner div clicked!');\n",
    "    });\n",
    "  </script>\n",
    "\n",
    "</body>\n",
    "</html>\n",
    "```\n",
    "\n",
    "In this example, clicking the inner div triggers the capturing phase first, logging 'Outer div clicked!', then the bubbling phase logs 'Inner div clicked!'. The order is determined by the third parameter of `addEventListener` (true for capturing, false or omitted for bubbling)."
   ]
  },
  {
   "cell_type": "markdown",
   "metadata": {},
   "source": [
    "**Question:**\n",
    "Can you explain the event loop in JavaScript?\"\n",
    "\n",
    "**Answer:**\n",
    "The event loop manages the execution flow in JavaScript, handling asynchronous tasks. Here's a simple analogy using a code example:\n",
    "\n",
    "```javascript\n",
    "console.log('Start');\n",
    "\n",
    "setTimeout(() => {\n",
    "  console.log('Inside setTimeout');\n",
    "}, 2000);\n",
    "\n",
    "console.log('End');\n",
    "```\n",
    "\n",
    "In this example, 'Start' and 'End' will be logged first, then 'Inside setTimeout' will be logged after a 2-second delay. The event loop ensures the non-blocking execution of code, allowing other tasks to run while waiting for asynchronous operations."
   ]
  }
 ],
 "metadata": {
  "language_info": {
   "name": "python"
  }
 },
 "nbformat": 4,
 "nbformat_minor": 2
}
